{
 "cells": [
  {
   "cell_type": "code",
   "execution_count": 0,
   "metadata": {
    "collapsed": true
   },
   "outputs": [],
   "source": []
  },
  {
   "cell_type": "code",
   "execution_count": 1,
   "outputs": [],
   "source": [
    "#%pip install tensorflow"
   ],
   "metadata": {
    "collapsed": false,
    "pycharm": {
     "name": "#%%\n"
    }
   }
  },
  {
   "cell_type": "code",
   "execution_count": 2,
   "outputs": [
    {
     "name": "stderr",
     "output_type": "stream",
     "text": [
      "WARNING:root:'PYARROW_IGNORE_TIMEZONE' environment variable was not set. It is required to set this environment variable to '1' in both driver and executor sides if you use pyarrow>=2.0.0. pandas-on-Spark will set it for you but it does not work if there is a Spark context already launched.\n"
     ]
    }
   ],
   "source": [
    "import pandas as pd\n",
    "from data import get_rating_matrix, get_interactions, get_job_data, get_job_interactions_matrix, map_ids\n",
    "from pyspark_ALS import pyspark_ALS\n",
    "import numpy as np"
   ],
   "metadata": {
    "collapsed": false,
    "pycharm": {
     "name": "#%%\n"
    }
   }
  },
  {
   "cell_type": "code",
   "execution_count": 3,
   "outputs": [
    {
     "data": {
      "text/plain": "         rating  uidx  iidx\n126           1     0     0\n3753501       1     1     1\n3753468       1     2     1\n3753430       1     3     1\n3753411       1     4     1\n...         ...   ...   ...\n3530538       5  2276   760\n3526731       5  2848   754\n3525838       5  1993   755\n3525790       5  2877   755\n3520395       5  2643   766\n\n[43287 rows x 3 columns]",
      "text/html": "<div>\n<style scoped>\n    .dataframe tbody tr th:only-of-type {\n        vertical-align: middle;\n    }\n\n    .dataframe tbody tr th {\n        vertical-align: top;\n    }\n\n    .dataframe thead th {\n        text-align: right;\n    }\n</style>\n<table border=\"1\" class=\"dataframe\">\n  <thead>\n    <tr style=\"text-align: right;\">\n      <th></th>\n      <th>rating</th>\n      <th>uidx</th>\n      <th>iidx</th>\n    </tr>\n  </thead>\n  <tbody>\n    <tr>\n      <th>126</th>\n      <td>1</td>\n      <td>0</td>\n      <td>0</td>\n    </tr>\n    <tr>\n      <th>3753501</th>\n      <td>1</td>\n      <td>1</td>\n      <td>1</td>\n    </tr>\n    <tr>\n      <th>3753468</th>\n      <td>1</td>\n      <td>2</td>\n      <td>1</td>\n    </tr>\n    <tr>\n      <th>3753430</th>\n      <td>1</td>\n      <td>3</td>\n      <td>1</td>\n    </tr>\n    <tr>\n      <th>3753411</th>\n      <td>1</td>\n      <td>4</td>\n      <td>1</td>\n    </tr>\n    <tr>\n      <th>...</th>\n      <td>...</td>\n      <td>...</td>\n      <td>...</td>\n    </tr>\n    <tr>\n      <th>3530538</th>\n      <td>5</td>\n      <td>2276</td>\n      <td>760</td>\n    </tr>\n    <tr>\n      <th>3526731</th>\n      <td>5</td>\n      <td>2848</td>\n      <td>754</td>\n    </tr>\n    <tr>\n      <th>3525838</th>\n      <td>5</td>\n      <td>1993</td>\n      <td>755</td>\n    </tr>\n    <tr>\n      <th>3525790</th>\n      <td>5</td>\n      <td>2877</td>\n      <td>755</td>\n    </tr>\n    <tr>\n      <th>3520395</th>\n      <td>5</td>\n      <td>2643</td>\n      <td>766</td>\n    </tr>\n  </tbody>\n</table>\n<p>43287 rows × 3 columns</p>\n</div>"
     },
     "execution_count": 3,
     "metadata": {},
     "output_type": "execute_result"
    }
   ],
   "source": [
    "lookback = 90\n",
    "rating_matrix = pd.read_csv('./data/ratings-filtered-%s-days.csv' % lookback, index_col=0)\n",
    "item_feature_df =pd.read_csv('./data/item_feature-filtered-%s-days.csv' % lookback, index_col=0)\n",
    "long_tail_items = item_feature_df[item_feature_df.feature == 'long_tail'].iidx.to_numpy()\n",
    "rating_matrix\n",
    "# %%\n",
    "rating_matrix_for_pyspark = rating_matrix.drop(columns=['industry', 'county', 'userId', 'itemId', 'timestamp', 'applicationdeadline', 'published', 'state'])\n",
    "rating_matrix_for_pyspark"
   ],
   "metadata": {
    "collapsed": false,
    "pycharm": {
     "name": "#%%\n"
    }
   }
  },
  {
   "cell_type": "code",
   "execution_count": 4,
   "outputs": [
    {
     "name": "stdout",
     "output_type": "stream",
     "text": [
      "Start training\n",
      "Num models to be tested:  16\n",
      "Trining Done\n",
      "Creating recommendations\n",
      "[0, 0, 0, 0, 0, 0, 0, 0, 0, 0] 3593\n",
      "**Best Model**\n",
      "  Rank: 150\n",
      "  MaxIter: 5\n",
      "  RegParam: 0.01\n",
      "  Summary Stats\n",
      "  RMSE test 1.6549309791261737\n",
      "  Precision = 0.9389368215975509\n",
      "  Recall = 0.003238830015859092\n",
      "  NDCG = 0.9463282535257757\n",
      "  Summary Popularity Bias\n",
      "  ARP@10 24.598747564709182\n",
      "  APLT@10 0.040801558586139375\n",
      "  ACLT@10 0.40801558586139713\n"
     ]
    },
    {
     "name": "stderr",
     "output_type": "stream",
     "text": [
      "C:\\Users\\perni\\AppData\\Local\\Programs\\Python\\Python39\\lib\\site-packages\\pandas\\core\\indexing.py:1724: SettingWithCopyWarning: \n",
      "A value is trying to be set on a copy of a slice from a DataFrame\n",
      "\n",
      "See the caveats in the documentation: https://pandas.pydata.org/pandas-docs/stable/user_guide/indexing.html#returning-a-view-versus-a-copy\n",
      "  self._setitem_with_indexer_missing(indexer, value)\n",
      "C:\\Users\\perni\\Documents\\NTNU\\Master\\Master-Popularity-Bias-In-JobRecs\\pyspark_ALS.py:88: SettingWithCopyWarning: \n",
      "A value is trying to be set on a copy of a slice from a DataFrame\n",
      "\n",
      "See the caveats in the documentation: https://pandas.pydata.org/pandas-docs/stable/user_guide/indexing.html#returning-a-view-versus-a-copy\n",
      "  true_list[global_user] = testItems\n",
      "C:\\Users\\perni\\AppData\\Local\\Programs\\Python\\Python39\\lib\\site-packages\\pandas\\core\\series.py:1056: SettingWithCopyWarning: \n",
      "A value is trying to be set on a copy of a slice from a DataFrame\n",
      "\n",
      "See the caveats in the documentation: https://pandas.pydata.org/pandas-docs/stable/user_guide/indexing.html#returning-a-view-versus-a-copy\n",
      "  cacher_needs_updating = self._check_is_chained_assignment_possible()\n",
      "C:\\Users\\perni\\AppData\\Local\\Programs\\Python\\Python39\\lib\\site-packages\\pyspark\\sql\\context.py:157: FutureWarning: Deprecated in 3.0.0. Use SparkSession.builder.getOrCreate() instead.\n",
      "  warnings.warn(\n"
     ]
    }
   ],
   "source": [
    "pandas_user_recs, pandas_test, train = pyspark_ALS(rating_matrix_for_pyspark.rename(columns={'uidx': 'userId', 'iidx': 'itemId'}), 50, long_tail_items, implicit=True)"
   ],
   "metadata": {
    "collapsed": false,
    "pycharm": {
     "name": "#%%\n"
    }
   }
  },
  {
   "cell_type": "code",
   "execution_count": 5,
   "outputs": [],
   "source": [
    "pandas_user_recs.to_pickle('./data/outputs/pyspark-als.preds.pkl')\n",
    "train.to_pickle('./data/outputs/pyspark-als-train.pkl')\n",
    "pandas_test.to_pickle('./data/outputs/pyspark-als-test.pkl')\n",
    "\n",
    "# %%\n",
    "#TODO: REMOVE\n",
    "\n",
    "\n",
    "#pandas_user_recs = pd.read_pickle('./data/outputs/pyspark-als.preds.pkl')\n",
    "#train = pd.read_pickle('./data/outputs/pyspark-als-train.pkl')\n",
    "#pandas_test = pd.read_pickle('./data/outputs/pyspark-als-test.pkl')"
   ],
   "metadata": {
    "collapsed": false,
    "pycharm": {
     "name": "#%%\n"
    }
   }
  },
  {
   "cell_type": "code",
   "execution_count": 6,
   "outputs": [],
   "source": [
    "#from xQuAD.xQuAD import RankerXQuad\n",
    "users = list(np.unique(rating_matrix['uidx'].values))\n",
    "items = list(np.unique(rating_matrix['iidx'].values))\n",
    "\n",
    "# from sklearn.model_selection import KFold\n",
    "\n",
    "# kfold = KFold(3, True)\n",
    "\n",
    "# for train, test in kfold.split(train):"
   ],
   "metadata": {
    "collapsed": false,
    "pycharm": {
     "name": "#%%\n"
    }
   }
  },
  {
   "cell_type": "code",
   "execution_count": 8,
   "outputs": [
    {
     "name": "stdout",
     "output_type": "stream",
     "text": [
      "Wall time: 0 ns\n",
      "Initializing user and  item lists\n",
      "Initializing observed, unobserved, and predicted relevance scores\n",
      "Initializing item popularity lists\n",
      "Initializing metrics\n",
      "Training with  {'lambda': 0.0}\n",
      "0.0\n",
      "Computing metrics for user 4365 / 4365365654365 164 / 43654365/ 43654365/ 4365/ 436543654365 436543651039 / 436543651610 / 43651679 / 4365 4365/ 4365436543654365436543652211 / 43654365 436543652356 / 43654365/ 43654365 2559 / 4365436543652725 / 436543654365 43652959 / 4365 43654365 436543653322 / 43653444 / 436543654365/ 43654365 4365/ 4365\n",
      "4365\n",
      "2876.0\n",
      "Precision: 0.0285 \n",
      "Recall: 0.132 \n",
      "NDCG: 0.0905 \n",
      "Hit Rate: 0.2447 \n",
      "Avg Popularity: 21.6113 \n",
      "Category Diversity: 0.0 \n",
      "Novelty: 7.9618 \n",
      "Item Coverage: 0.57 \n",
      "User Coverage: 0.2447 \n",
      "ARP 21.6113 \n",
      "APLT 0.0659 \n",
      "ACLT 0.6589\n",
      "Training with  {'lambda': 0.1}\n",
      "0.1\n",
      "Computing metrics for user 4365 / 436536565 4365 4365 4365436543654365/ 4365436543651021 / 4365436543651405 / 43654365 1441 / 43654365 / 4365/ 436543651726 / 43654365 43652345 / 4365436543652523 / 4365/ 4365 / 43654365/ 4365/ 4365 / 4365 2974 / 4365/ 4365436543654365/ 43654365 4365/ 43654365436543654211 / 4365 4365\n",
      "4365\n",
      "22432.0\n",
      "Precision: 0.0005 \n",
      "Recall: 0.0021 \n",
      "NDCG: 0.0013 \n",
      "Hit Rate: 0.0046 \n",
      "Avg Popularity: 7.5858 \n",
      "Category Diversity: 0.0 \n",
      "Novelty: 9.3719 \n",
      "Item Coverage: 0.04 \n",
      "User Coverage: 0.0046 \n",
      "ARP 7.5858 \n",
      "APLT 0.5139 \n",
      "ACLT 5.1391\n",
      "Training with  {'lambda': 0.2}\n",
      "0.2\n",
      "Computing metrics for user 4365 / 43653653654365 43654365 4365981 / 4365 43654365 1140 / 4365 43654365 1348 / 4365 4365 1719 / 4365 4365/ 4365 4365 2591 / 4365/ 43654365 3540 / 43653815 / 4365 3979 / 4365 4009 / 43654365\n",
      "4365\n",
      "22432.0\n",
      "Precision: 0.0005 \n",
      "Recall: 0.0021 \n",
      "NDCG: 0.0013 \n",
      "Hit Rate: 0.0046 \n",
      "Avg Popularity: 7.5858 \n",
      "Category Diversity: 0.0 \n",
      "Novelty: 9.3719 \n",
      "Item Coverage: 0.04 \n",
      "User Coverage: 0.0046 \n",
      "ARP 7.5858 \n",
      "APLT 0.5139 \n",
      "ACLT 5.1391\n",
      "Training with  {'lambda': 0.3}\n",
      "0.3\n",
      "Computing metrics for user 4365 / 436536543654365 43654365/ 4365 436543654365 4365 1541 / 4365 436543651765 / 4365/ 43652085 / 4365 4365 / 43652495 / 43652642 / 43654365/ 4365 4365 43654365 4365/ 4365 4365 4365\n",
      "4365\n",
      "22432.0\n",
      "Precision: 0.0005 \n",
      "Recall: 0.0021 \n",
      "NDCG: 0.0013 \n",
      "Hit Rate: 0.0046 \n",
      "Avg Popularity: 7.5858 \n",
      "Category Diversity: 0.0 \n",
      "Novelty: 9.3719 \n",
      "Item Coverage: 0.04 \n",
      "User Coverage: 0.0046 \n",
      "ARP 7.5858 \n",
      "APLT 0.5139 \n",
      "ACLT 5.1391\n",
      "Training with  {'lambda': 0.4}\n",
      "0.4\n",
      "Computing metrics for user 4365 / 4365365 43654365/ 4365459 / 436543654365 4365/ 4365 43651349 / 436543651410 / 4365/ 436543652037 / 4365/ 4365 4365 2542 / 4365 4365 / 43654365 / 4365 4365/ 4365\n",
      "4365\n",
      "22432.0\n",
      "Precision: 0.0005 \n",
      "Recall: 0.0021 \n",
      "NDCG: 0.0013 \n",
      "Hit Rate: 0.0046 \n",
      "Avg Popularity: 7.5858 \n",
      "Category Diversity: 0.0 \n",
      "Novelty: 9.3719 \n",
      "Item Coverage: 0.04 \n",
      "User Coverage: 0.0046 \n",
      "ARP 7.5858 \n",
      "APLT 0.5139 \n",
      "ACLT 5.1391\n",
      "Training with  {'lambda': 0.5}\n",
      "0.5\n",
      "Computing metrics for user 4365 / 4365365436543654365 / 43651268 / 4365 / 43654365/ 4365 4365/ 4365/ 4365 4365 / 43652771 / 436543653089 / 436543653830 / 4365 / 4365 / 4365 4365 4302 / 43654365\n",
      "4365\n",
      "22432.0\n",
      "Precision: 0.0005 \n",
      "Recall: 0.0021 \n",
      "NDCG: 0.0013 \n",
      "Hit Rate: 0.0046 \n",
      "Avg Popularity: 7.5858 \n",
      "Category Diversity: 0.0 \n",
      "Novelty: 9.3719 \n",
      "Item Coverage: 0.04 \n",
      "User Coverage: 0.0046 \n",
      "ARP 7.5858 \n",
      "APLT 0.5139 \n",
      "ACLT 5.1391\n",
      "Training with  {'lambda': 0.6}\n",
      "0.6\n",
      "Computing metrics for user 4365 / 4365365365 / 43654365835 / 43654365 436543654365436543654365/ 4365/ 436543652776 / 4365 3119 / 4365 43654365 3439 / 4365 43654365/ 4365 4365\n",
      "4365\n",
      "22432.0\n",
      "Precision: 0.0005 \n",
      "Recall: 0.0021 \n",
      "NDCG: 0.0013 \n",
      "Hit Rate: 0.0046 \n",
      "Avg Popularity: 7.5858 \n",
      "Category Diversity: 0.0 \n",
      "Novelty: 9.3719 \n",
      "Item Coverage: 0.04 \n",
      "User Coverage: 0.0046 \n",
      "ARP 7.5858 \n",
      "APLT 0.5139 \n",
      "ACLT 5.1391\n",
      "Training with  {'lambda': 0.7}\n",
      "0.7\n",
      "Computing metrics for user 4365 / 43653654365486 / 4365540 / 43654365850 / 436543651496 / 43654365/ 43654365/ 4365 4365 4365 2559 / 43654365 4365 4365 43653717 / 43653736 / 43654365 3949 / 436543654046 / 4365\n",
      "4365\n",
      "22432.0\n",
      "Precision: 0.0005 \n",
      "Recall: 0.0021 \n",
      "NDCG: 0.0013 \n",
      "Hit Rate: 0.0046 \n",
      "Avg Popularity: 7.5858 \n",
      "Category Diversity: 0.0 \n",
      "Novelty: 9.3719 \n",
      "Item Coverage: 0.04 \n",
      "User Coverage: 0.0046 \n",
      "ARP 7.5858 \n",
      "APLT 0.5139 \n",
      "ACLT 5.1391\n",
      "Training with  {'lambda': 0.8}\n",
      "0.8\n",
      "Computing metrics for user 4365 / 4365365 / 4365436543654365 425 / 4365696 / 4365/ 4365 1332 / 43651553 / 43654365/ 43652457 / 4365 2564 / 4365/ 43652958 / 4365 4365 / 436543654365436543654365/ 4365 4365\n",
      "4365\n",
      "22432.0\n",
      "Precision: 0.0005 \n",
      "Recall: 0.0021 \n",
      "NDCG: 0.0013 \n",
      "Hit Rate: 0.0046 \n",
      "Avg Popularity: 7.5858 \n",
      "Category Diversity: 0.0 \n",
      "Novelty: 9.3719 \n",
      "Item Coverage: 0.04 \n",
      "User Coverage: 0.0046 \n",
      "ARP 7.5858 \n",
      "APLT 0.5139 \n",
      "ACLT 5.1391\n",
      "Training with  {'lambda': 0.9}\n",
      "0.9\n",
      "Computing metrics for user 4365 / 436536543654365 4365562 / 4365436543651188 / 4365 43654365436543654365/ 43653937 / 4365\n",
      "4365\n",
      "22432.0\n",
      "Precision: 0.0005 \n",
      "Recall: 0.0021 \n",
      "NDCG: 0.0013 \n",
      "Hit Rate: 0.0046 \n",
      "Avg Popularity: 7.5858 \n",
      "Category Diversity: 0.0 \n",
      "Novelty: 9.3719 \n",
      "Item Coverage: 0.04 \n",
      "User Coverage: 0.0046 \n",
      "ARP 7.5858 \n",
      "APLT 0.5139 \n",
      "ACLT 5.1391\n"
     ]
    },
    {
     "name": "stderr",
     "output_type": "stream",
     "text": [
      "C:\\Users\\perni\\Documents\\NTNU\\Master\\Master-Popularity-Bias-In-JobRecs\\xQuAD\\xQuAD.py:40: RuntimeWarning: invalid value encountered in subtract\n",
      "  user_scores = (user_scores - min(user_scores)) / (max(user_scores) - min(user_scores))\n",
      "C:\\Users\\perni\\Documents\\NTNU\\Master\\Master-Popularity-Bias-In-JobRecs\\xQuAD\\xQuAD.py:40: RuntimeWarning: invalid value encountered in true_divide\n",
      "  user_scores = (user_scores - min(user_scores)) / (max(user_scores) - min(user_scores))\n"
     ]
    }
   ],
   "source": [
    "%time\n",
    "from xQuAD.xQuAD import RankerXQuad\n",
    "from xQuAD.Model import save_obj\n",
    "import os\n",
    "\n",
    "lmbdas = [0.0, 0.1, 0.2, 0.3, 0.4, 0.5, 0.6, 0.7, 0.8, 0.9]\n",
    "#lmbdas = [0.4]\n",
    "\n",
    "predictions = pandas_user_recs.pivot(index='userId', columns='itemId', values = 'rating').fillna(0)\n",
    "predictions = predictions.reindex(index=users, columns=items, fill_value=0).values\n",
    "models = {}\n",
    "model = RankerXQuad(users = users, items = items, observed_relevance = train, unobserved_relevance = pandas_test, item_field = 'itemId', rating_field='rating', user_field = 'userId', item_feature_df=item_feature_df)\n",
    "\n",
    "\n",
    "for lmbda in lmbdas:\n",
    "    print(\"Training with \", {'lambda': lmbda})\n",
    "    model.set_predictions(predictions)\n",
    "    model.rerank(type='smooth', lmbda=lmbda, k=10, rmax=100)\n",
    "    scores = model.get_predictions()\n",
    "    save_obj(scores, os.path.join('./data/outputs/scores/pyspark/reranker-pyspark' + str(lmbda) + '_scores.pkl'))\n",
    "    model.test()\n",
    "\n",
    "    metrics = model.get_metrics()\n",
    "    save_obj(metrics, os.path.join('./data/outputs/metrics/pyspark/reranker-pyspark' + str(lmbda) + '_metrics.pkl'))\n",
    "    model.show_metrics()\n",
    "    models[lmbda] = model"
   ],
   "metadata": {
    "collapsed": false,
    "pycharm": {
     "name": "#%%\n"
    }
   }
  },
  {
   "cell_type": "code",
   "execution_count": null,
   "outputs": [],
   "source": [
    "models[0.4].test()"
   ],
   "metadata": {
    "collapsed": false,
    "pycharm": {
     "name": "#%%\n"
    }
   }
  },
  {
   "cell_type": "code",
   "execution_count": null,
   "outputs": [],
   "source": [
    "model.show_metrics()\n",
    "# %%\n",
    "# %%\n"
   ],
   "metadata": {
    "collapsed": false,
    "pycharm": {
     "name": "#%%\n"
    }
   }
  }
 ],
 "metadata": {
  "kernelspec": {
   "display_name": "Python 3",
   "language": "python",
   "name": "python3"
  },
  "language_info": {
   "codemirror_mode": {
    "name": "ipython",
    "version": 2
   },
   "file_extension": ".py",
   "mimetype": "text/x-python",
   "name": "python",
   "nbconvert_exporter": "python",
   "pygments_lexer": "ipython2",
   "version": "2.7.6"
  }
 },
 "nbformat": 4,
 "nbformat_minor": 0
}